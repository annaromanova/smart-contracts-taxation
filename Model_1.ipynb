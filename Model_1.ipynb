{
 "cells": [
  {
   "cell_type": "markdown",
   "metadata": {},
   "source": [
    "#### Model 1: to have tax rules in the separate contracts."
   ]
  },
  {
   "cell_type": "markdown",
   "metadata": {},
   "source": [
    "Virtual currency transactions are taxable by law just like transactions in any other property. The IRS has issued guidance in IRS Notice 2014-21 for use by taxpayers and their return preparers that addresses transactions in virtual currency, also known as digital currency. We will use it for illustration of tax rules for smart contracts.\n",
    "\n",
    "Notice 2014-21 provides that virtual currency is treated as property for U.S. federal tax purposes. General tax principles that apply to property transactions apply to transactions using virtual currency. Among other things, this means that:\n",
    "\n",
    "    A payment made using virtual currency is subject to information reporting to the same extent as any other payment made in property.\n",
    "    \n",
    "    Payments using virtual currency made to independent contractors and other service providers are taxable, and self-employment tax rules generally apply.  Normally, payers must issue Form 1099-MISC.\n",
    "    \n",
    "    Wages paid to employees using virtual currency are taxable to the employee, must be reported by an employer on a Form W-2 and are subject to federal income tax withholding and payroll taxes.\n",
    "    \n",
    "    Certain third parties who settle payments made in virtual currency on behalf of merchants that accept virtual currency from their customers are required to report payments to those merchants on Form 1099-K, Payment Card and Third Party Network Transactions.\n",
    "\n",
    "    The character of gain or loss from the sale or exchange of virtual currency depends on whether the virtual currency is a capital asset in the hands of the taxpayer."
   ]
  },
  {
   "cell_type": "markdown",
   "metadata": {},
   "source": [
    "#### Required attributes to construct tax clouse\n",
    "\n",
    "In general, the sale or exchange of convertible virtual currency, or the use of convertible virtual currency to pay for goods or services in a real-world economy transaction, has tax consequences that may result in a tax liability:\n",
    "\n",
    "- is it convertible virtual currency (bool);\n",
    "\n",
    "A taxpayer who receives virtual currency as payment for goods or services must, in computing gross income, include the fair market value of the virtual currency, measured in U.S. dollars, as of the date that the virtual currency was received:\n",
    "\n",
    "- fair market value of the virtual currency (int);\n",
    "\n",
    "If the fair market value of property received in exchange for virtual currency is higher / lower the taxpayer’s adjusted basis of the virtual currency, the taxpayer has taxable gain / loss:\n",
    "\n",
    "- fair market value of property received (int);\n",
    "\n",
    "A payment made using virtual currency is subject to information reporting to the same extent as any other payment made in property. For example, a person who in the course of a trade or business makes a payment of fixed and determinable income using virtual currency with a value of $600 or more to a U.S. non-exempt recipient in a taxable year is required to report the payment to the IRS and to the payee. Examples of payments of fixed and determinable income include rent, salaries, wages, premiums, annuities, and compensation:\n",
    "\n",
    "- reportable event (bool);\n",
    "\n",
    "Payments made using virtual currency are subject to backup withholding to the same extent as other payments made in property. Therefore, payors making reportable payments using virtual currency must solicit a taxpayer identification number (TIN) from the payee. The payor must backup withhold from the payment if a TIN is not obtained prior to payment or if the payor receives notification from the IRS that backup withholding is required:\n",
    "\n",
    "- TIN (int);\n",
    "\n",
    "\n",
    "etc.\n",
    "\n"
   ]
  },
  {
   "cell_type": "markdown",
   "metadata": {},
   "source": [
    "#### The tax consequences schould be assessed before payment (and after payment):\n",
    "\n",
    "- there might be obligation to withold tax before payment;\n",
    "- after assessment of tax consequences the payment might be not desired or can be structured in a different way;\n",
    "\n",
    "etc.\n",
    "\n",
    "Therefore the tax clause is beneficial to structure as a separate contract and that contract schould be deployed before the main contract. The same approcah might be considered for other types of clauses as well.\n",
    "\n",
    "Such approach allows code reusability, ie treating deployed contracts like libraries. And as some tax rules are stable and some are frequently changes, than practical way might be to use one separate callable contract per rule."
   ]
  },
  {
   "cell_type": "code",
   "execution_count": 10,
   "metadata": {},
   "outputs": [],
   "source": [
    "import json\n",
    "import web3\n",
    "\n",
    "from web3 import Web3\n",
    "from solc import compile_source\n",
    "from web3.contract import ConciseContract"
   ]
  },
  {
   "cell_type": "code",
   "execution_count": 11,
   "metadata": {},
   "outputs": [],
   "source": [
    "# Solidity source code\n",
    "contract_source_code = '''\n",
    "pragma solidity ^0.4.21;\n",
    "\n",
    "//Contract to store tax rate\n",
    "contract TaxRate{\n",
    "    uint private taxRate = 20;\n",
    "    function getRate() public view returns (uint){\n",
    "        return taxRate;\n",
    "    }\n",
    "    \n",
    "    function setRate(uint _rate) public{\n",
    "        taxRate = _rate;\n",
    "    }\n",
    "}\n",
    "\n",
    "contract Base1 {\n",
    "\n",
    "    //Tax procedures\n",
    "    function useNewRate() public returns (uint){\n",
    "    \n",
    "        TaxRate myObj = new TaxRate();\n",
    "        myObj.setRate(10);\n",
    "        return myObj.getRate();\n",
    "    }\n",
    "    \n",
    "    //Base function\n",
    "    function withdraw() public {\n",
    "        msg.sender.transfer(this.balance);\n",
    "    }   \n",
    "}\n",
    "\n",
    "'''"
   ]
  },
  {
   "cell_type": "code",
   "execution_count": 12,
   "metadata": {},
   "outputs": [
    {
     "name": "stdout",
     "output_type": "stream",
     "text": [
      "New contract rate: 10\n"
     ]
    }
   ],
   "source": [
    "compiled_sol = compile_source(contract_source_code) # Compiled source code\n",
    "contract_interface = compiled_sol['<stdin>:Base1']\n",
    "\n",
    "# web3.py instance\n",
    "w3 = Web3(Web3.EthereumTesterProvider())\n",
    "\n",
    "# set pre-funded account as sender\n",
    "w3.eth.defaultAccount = w3.eth.accounts[0]\n",
    "\n",
    "# Instantiate and deploy contract\n",
    "Base = w3.eth.contract(abi=contract_interface['abi'], bytecode=contract_interface['bin'])\n",
    "\n",
    "# Submit the transaction that deploys the contract\n",
    "tx_hash = Base.constructor().transact()\n",
    "\n",
    "# Wait for the transaction to be mined, and get the transaction receipt\n",
    "tx_receipt = w3.eth.waitForTransactionReceipt(tx_hash)\n",
    "\n",
    "# Create the contract instance with the newly-deployed address\n",
    "base = w3.eth.contract(\n",
    "    address=tx_receipt.contractAddress,\n",
    "    abi=contract_interface['abi'],\n",
    ")\n",
    "\n",
    "# Display the default  from the contract\n",
    "print('New contract rate: {}'.format(\n",
    "    base.functions.useNewRate().call()\n",
    "))"
   ]
  },
  {
   "cell_type": "code",
   "execution_count": 14,
   "metadata": {},
   "outputs": [],
   "source": [
    "def get_contract_interface(input_str, contract_source_code):\n",
    "    # Solidity Compiler\n",
    "\n",
    "    compiled_sol = compile_source(contract_source_code) # Compiled source code\n",
    "    contract_interface = compiled_sol['<stdin>:' + input_str]\n",
    "\n",
    "    # web3.py instance\n",
    "    w3 = Web3(Web3.EthereumTesterProvider())\n",
    "\n",
    "    # set pre-funded account as sender\n",
    "    w3.eth.defaultAccount = w3.eth.accounts[0]\n",
    "\n",
    "    # Instantiate and deploy contract\n",
    "    ContractDeploy = w3.eth.contract(abi=contract_interface['abi'], bytecode=contract_interface['bin'])\n",
    "\n",
    "    # Submit the transaction that deploys the contract\n",
    "    tx_hash = ContractDeploy.constructor().transact()\n",
    "\n",
    "    # Wait for the transaction to be mined, and get the transaction receipt\n",
    "    tx_receipt = w3.eth.waitForTransactionReceipt(tx_hash)\n",
    "\n",
    "    # Create the contract instance with the newly-deployed address\n",
    "    contract_inst = w3.eth.contract(\n",
    "        address=tx_receipt.contractAddress,\n",
    "        abi=contract_interface['abi'],\n",
    "    )\n",
    "    \n",
    "    return w3, contract_inst"
   ]
  },
  {
   "cell_type": "code",
   "execution_count": null,
   "metadata": {},
   "outputs": [],
   "source": []
  }
 ],
 "metadata": {
  "kernelspec": {
   "display_name": "Python 3",
   "language": "python",
   "name": "python3"
  },
  "language_info": {
   "codemirror_mode": {
    "name": "ipython",
    "version": 3
   },
   "file_extension": ".py",
   "mimetype": "text/x-python",
   "name": "python",
   "nbconvert_exporter": "python",
   "pygments_lexer": "ipython3",
   "version": "3.7.1"
  }
 },
 "nbformat": 4,
 "nbformat_minor": 2
}
