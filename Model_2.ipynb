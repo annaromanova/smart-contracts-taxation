{
 "cells": [
  {
   "cell_type": "markdown",
   "metadata": {},
   "source": [
    "#### Model 2: tax processing within the base contract. The simplest tax process - must notify the user that there might be tax consequences."
   ]
  },
  {
   "cell_type": "code",
   "execution_count": 107,
   "metadata": {},
   "outputs": [],
   "source": [
    "import json\n",
    "import web3\n",
    "import time\n",
    "from web3 import Web3, HTTPProvider\n",
    "from solc import compile_source\n",
    "from web3.contract import ConciseContract\n",
    "from web3 import Web3, EthereumTesterProvider"
   ]
  },
  {
   "cell_type": "code",
   "execution_count": 108,
   "metadata": {},
   "outputs": [],
   "source": [
    "# Solidity source code\n",
    "contract_source_code = '''\n",
    "pragma solidity ^0.4.25;\n",
    "\n",
    "contract Base {\n",
    "   \n",
    "    //Tax procedures\n",
    "    string public notification = \"Your virtual currency is convertible. You need to assess your tax obligations.\";\n",
    "\n",
    "    function Notifier() public {\n",
    "        notification = 'Your virtual currency is convertible. You need to assess your tax obligations.';\n",
    "    }\n",
    "\n",
    "    function setNotification(string _notification) public {\n",
    "        notification = _notification;\n",
    "    }\n",
    "\n",
    "    function notify() view public returns (string) {\n",
    "        return notification;\n",
    "    }\n",
    "\n",
    "\n",
    "    //Base function\n",
    "    function withdraw() public {\n",
    "        msg.sender.transfer(this.balance);\n",
    "    }\n",
    "}\n",
    "'''"
   ]
  },
  {
   "cell_type": "code",
   "execution_count": 109,
   "metadata": {},
   "outputs": [],
   "source": [
    "compiled_sol = compile_source(contract_source_code) # Compiled source code\n",
    "contract_interface = compiled_sol['<stdin>:Base']"
   ]
  },
  {
   "cell_type": "code",
   "execution_count": 110,
   "metadata": {},
   "outputs": [],
   "source": [
    "# web3.py instance\n",
    "w3 = Web3(Web3.EthereumTesterProvider())"
   ]
  },
  {
   "cell_type": "code",
   "execution_count": 111,
   "metadata": {},
   "outputs": [],
   "source": [
    "# set pre-funded account as sender\n",
    "w3.eth.defaultAccount = w3.eth.accounts[0]"
   ]
  },
  {
   "cell_type": "code",
   "execution_count": 112,
   "metadata": {},
   "outputs": [],
   "source": [
    "# Instantiate and deploy contract\n",
    "Base = w3.eth.contract(abi=contract_interface['abi'], bytecode=contract_interface['bin'])"
   ]
  },
  {
   "cell_type": "code",
   "execution_count": 113,
   "metadata": {},
   "outputs": [],
   "source": [
    "# Submit the transaction that deploys the contract\n",
    "tx_hash = Base.constructor().transact()"
   ]
  },
  {
   "cell_type": "code",
   "execution_count": 114,
   "metadata": {},
   "outputs": [],
   "source": [
    "# Wait for the transaction to be mined, and get the transaction receipt\n",
    "tx_receipt = w3.eth.waitForTransactionReceipt(tx_hash)"
   ]
  },
  {
   "cell_type": "code",
   "execution_count": 115,
   "metadata": {},
   "outputs": [],
   "source": [
    "# Create the contract instance with the newly-deployed address\n",
    "base = w3.eth.contract(\n",
    "    address=tx_receipt.contractAddress,\n",
    "    abi=contract_interface['abi'],\n",
    ")"
   ]
  },
  {
   "cell_type": "code",
   "execution_count": 116,
   "metadata": {},
   "outputs": [
    {
     "name": "stdout",
     "output_type": "stream",
     "text": [
      "Default contract NOTIFICATION: Your virtual currency is convertible. You need to assess your tax obligations.\n"
     ]
    }
   ],
   "source": [
    "# Display the default notificATION from the contract\n",
    "print('Default contract NOTIFICATION: {}'.format(\n",
    "    base.functions.notify().call()\n",
    "))"
   ]
  },
  {
   "cell_type": "code",
   "execution_count": 117,
   "metadata": {},
   "outputs": [],
   "source": [
    "def get_contract_interface(input_str, contract_source_code):\n",
    "    # Solidity Compiler\n",
    "\n",
    "    compiled_sol = compile_source(contract_source_code) # Compiled source code\n",
    "    contract_interface = compiled_sol['<stdin>:' + input_str]\n",
    "\n",
    "    # web3.py instance\n",
    "    w3 = Web3(Web3.EthereumTesterProvider())\n",
    "\n",
    "    # set pre-funded account as sender\n",
    "    w3.eth.defaultAccount = w3.eth.accounts[0]\n",
    "\n",
    "    # Instantiate and deploy contract\n",
    "    ContractDeploy = w3.eth.contract(abi=contract_interface['abi'], bytecode=contract_interface['bin'])\n",
    "\n",
    "    # Submit the transaction that deploys the contract\n",
    "    tx_hash = ContractDeploy.constructor().transact()\n",
    "\n",
    "    # Wait for the transaction to be mined, and get the transaction receipt\n",
    "    tx_receipt = w3.eth.waitForTransactionReceipt(tx_hash)\n",
    "\n",
    "    # Create the contract instance with the newly-deployed address\n",
    "    contract_inst = w3.eth.contract(\n",
    "        address=tx_receipt.contractAddress,\n",
    "        abi=contract_interface['abi'],\n",
    "    )\n",
    "    \n",
    "    return w3, contract_inst"
   ]
  },
  {
   "cell_type": "code",
   "execution_count": null,
   "metadata": {},
   "outputs": [],
   "source": []
  }
 ],
 "metadata": {
  "kernelspec": {
   "display_name": "Python 3",
   "language": "python",
   "name": "python3"
  },
  "language_info": {
   "codemirror_mode": {
    "name": "ipython",
    "version": 3
   },
   "file_extension": ".py",
   "mimetype": "text/x-python",
   "name": "python",
   "nbconvert_exporter": "python",
   "pygments_lexer": "ipython3",
   "version": "3.7.1"
  }
 },
 "nbformat": 4,
 "nbformat_minor": 2
}
