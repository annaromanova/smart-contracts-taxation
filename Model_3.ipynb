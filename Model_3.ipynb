{
 "cells": [
  {
   "cell_type": "markdown",
   "metadata": {},
   "source": [
    "#### Model 3: oracle for TIN (tax identification number) confirmation. Should get verified TINs from the tax authorities (helps to resolve last mile problem to check valid TINs)."
   ]
  },
  {
   "cell_type": "code",
   "execution_count": 37,
   "metadata": {},
   "outputs": [],
   "source": [
    "import json\n",
    "import web3\n",
    "\n",
    "from web3 import Web3\n",
    "from solc import compile_source\n",
    "from web3.contract import ConciseContract"
   ]
  },
  {
   "cell_type": "code",
   "execution_count": 38,
   "metadata": {},
   "outputs": [],
   "source": [
    "# Solidity source code\n",
    "#example based on https://blockgeeks.com/guides/solidity/\n",
    "oracle_source_code = '''\n",
    "pragma solidity ^0.4.21;\n",
    "\n",
    "//Oracle to confirm Tax Residence Sertificates\n",
    "contract Oracle \n",
    "    { struct Request {\n",
    "        bytes data;\n",
    "        function(uint) external callback; \n",
    "    }\n",
    "\n",
    "    Request[] requests;\n",
    "    \n",
    "    event NewRequest(uint);\n",
    "    \n",
    "    function query(bytes memory data, function(uint) external callback) public {\n",
    "        requests.push(Request(data, callback));\n",
    "        emit NewRequest(requests.length - 1); \n",
    "    }\n",
    "    \n",
    "    function reply(uint requestID, uint response) public {\n",
    "        requests[requestID].callback(response);\n",
    "    } \n",
    "    \n",
    "    address Admin;\n",
    "    \n",
    "    //Trying to solve last mile problem - images schould be verifyed\n",
    "    mapping ( bytes32 => verifiedImage) verifiedImages;\n",
    "    bytes32[] imagesByVerificatorHash; \n",
    "    \n",
    "    //Or last mile may be put on users - if they want to be in oracle database - they should verify their data\n",
    "    mapping ( address => User ) Users;\n",
    "    address[] usersByAddress;\n",
    "    \n",
    "    struct verifiedImage {\n",
    "        string imageURL;\n",
    "        uint timeStamp;\n",
    "    }\n",
    "    \n",
    "    struct User {\n",
    "        string name;\n",
    "        string city;\n",
    "        string state;\n",
    "        string country;\n",
    "        bytes32[] certificateImages;\n",
    "    }\n",
    "    \n",
    "    constructor () public payable {  \n",
    "        Admin = msg.sender;\n",
    "    }\n",
    "    \n",
    "    modifier onlyAdmin() {\n",
    "      if (msg.sender != Admin)\n",
    "        revert('No rights');\n",
    "      // Do not forget the \"_;\"! It will be replaced by the actual function body when the modifier is used.\n",
    "      _;\n",
    "    }\n",
    "    \n",
    "    function removeUser(address badUser) public onlyAdmin returns (bool success) {\n",
    "        delete Users[badUser];\n",
    "        return true;\n",
    "    }\n",
    "    \n",
    "    function removeImage(bytes32 badImage) public onlyAdmin returns (bool success) {\n",
    "        delete verifiedImages[badImage];\n",
    "        return true;\n",
    "    }\n",
    "    \n",
    "    function registerNewUser(string memory name, \n",
    "        string memory city, string memory state, string memory country) public returns (bool success) {\n",
    "        address thisNewAddress = msg.sender;\n",
    "  \n",
    "        if(bytes(Users[msg.sender].name).length == 0 && bytes(name).length != 0){\n",
    "            Users[thisNewAddress].name = name;\n",
    "            Users[thisNewAddress].city = city;\n",
    "            Users[thisNewAddress].state = state;\n",
    "            Users[thisNewAddress].country = country;\n",
    "            usersByAddress.push(thisNewAddress);\n",
    "            return true;\n",
    "        } else {\n",
    "            return false;\n",
    "        }\n",
    "    }\n",
    "  \n",
    "  function addImageToUser(string memory imageURL,bytes32 SHA256Hash) public returns (bool success) {\n",
    "    address thisNewAddress = msg.sender;\n",
    "    if(bytes(Users[thisNewAddress].name).length != 0){ \n",
    "      if(bytes(imageURL).length != 0){   // ) {  \n",
    "        \n",
    "        if(bytes(verifiedImages[SHA256Hash].imageURL).length == 0) {\n",
    "          imagesByVerificatorHash.push(SHA256Hash);\n",
    "        }\n",
    "        verifiedImages[SHA256Hash].imageURL = imageURL;\n",
    "        verifiedImages[SHA256Hash].timeStamp = block.timestamp; \n",
    "        Users[thisNewAddress].certificateImages.push(SHA256Hash); \n",
    "        return true;\n",
    "      } else {\n",
    "        return false; \n",
    "      }\n",
    "      return true;\n",
    "    } else {\n",
    "      return false; \n",
    "    }\n",
    "  }\n",
    "\n",
    "    function getUsers() view public returns (address[] memory) \n",
    "        { return usersByAddress; }\n",
    "    \n",
    "    function getUser(address userAddress) view public\n",
    "        returns (string memory,string memory,string memory,string memory,bytes32[] memory) \n",
    "    {\n",
    "        return (Users[userAddress].name,Users[userAddress].city,Users[userAddress].state,Users[userAddress].country,Users[userAddress].certificateImages);\n",
    "    }\n",
    "  \n",
    "    function getAllImages() view public returns (bytes32[] memory) \n",
    "    { return imagesByVerificatorHash; }\n",
    "  \n",
    "    function getUserImages(address userAddress) view public returns (bytes32[] memory) \n",
    "        { return Users[userAddress].certificateImages; }\n",
    "\n",
    "    function getImage(bytes32 SHA256Hash) view public returns (string memory,uint) {\n",
    "        return (verifiedImages[SHA256Hash].imageURL,verifiedImages[SHA256Hash].timeStamp);\n",
    "  }\n",
    "}\n",
    "'''"
   ]
  },
  {
   "cell_type": "code",
   "execution_count": 39,
   "metadata": {},
   "outputs": [],
   "source": [
    "# Solidity Compiler\n",
    "\n",
    "compiled_sol = compile_source(oracle_source_code) # Compiled source code\n",
    "contract_interface = compiled_sol['<stdin>:Oracle']"
   ]
  },
  {
   "cell_type": "code",
   "execution_count": 40,
   "metadata": {},
   "outputs": [],
   "source": [
    "# web3.py instance\n",
    "w3 = Web3(Web3.EthereumTesterProvider())"
   ]
  },
  {
   "cell_type": "code",
   "execution_count": 41,
   "metadata": {},
   "outputs": [],
   "source": [
    "# set pre-funded account as sender\n",
    "w3.eth.defaultAccount = w3.eth.accounts[0]"
   ]
  },
  {
   "cell_type": "code",
   "execution_count": 42,
   "metadata": {},
   "outputs": [],
   "source": [
    "# Instantiate and deploy contract\n",
    "ContractDeploy = w3.eth.contract(abi=contract_interface['abi'], bytecode=contract_interface['bin'])"
   ]
  },
  {
   "cell_type": "code",
   "execution_count": 43,
   "metadata": {},
   "outputs": [],
   "source": [
    "# Submit the transaction that deploys the contract\n",
    "tx_hash = ContractDeploy.constructor().transact()"
   ]
  },
  {
   "cell_type": "code",
   "execution_count": 44,
   "metadata": {},
   "outputs": [],
   "source": [
    "# Wait for the transaction to be mined, and get the transaction receipt\n",
    "tx_receipt = w3.eth.waitForTransactionReceipt(tx_hash)"
   ]
  },
  {
   "cell_type": "code",
   "execution_count": 45,
   "metadata": {},
   "outputs": [],
   "source": [
    "# Create the contract instance with the newly-deployed address\n",
    "contract_inst = w3.eth.contract(\n",
    "    address=tx_receipt.contractAddress,\n",
    "    abi=contract_interface['abi'],\n",
    ")"
   ]
  },
  {
   "cell_type": "code",
   "execution_count": 46,
   "metadata": {},
   "outputs": [
    {
     "data": {
      "text/plain": [
       "AttributeDict({'transactionHash': HexBytes('0x5979aea0ec919ec5dc18f866d45a390cafa4b16e35084220730ef13aa6bf92b7'),\n",
       " 'transactionIndex': 0,\n",
       " 'blockNumber': 2,\n",
       " 'blockHash': HexBytes('0x0c1f01018133134def2a7d9b672d2bc7a3a6976113e8aae104b6e8ce0e6abb73'),\n",
       " 'cumulativeGasUsed': 149838,\n",
       " 'gasUsed': 149838,\n",
       " 'contractAddress': None,\n",
       " 'logs': [],\n",
       " 'status': 1})"
      ]
     },
     "execution_count": 46,
     "metadata": {},
     "output_type": "execute_result"
    }
   ],
   "source": [
    "# Perform a transaction within a \"Blockchain\"\n",
    "\n",
    "tx_hash = contract_inst.functions.registerNewUser('APIAP', 'NSW','Parramatta','Australia').transact()\n",
    "\n",
    "# Wait for transaction to be mined...\n",
    "w3.eth.waitForTransactionReceipt(tx_hash)"
   ]
  },
  {
   "cell_type": "code",
   "execution_count": 47,
   "metadata": {},
   "outputs": [
    {
     "data": {
      "text/plain": [
       "AttributeDict({'transactionHash': HexBytes('0x42de0537d16ad206bffc06bb24b447dfb4b0e6785ab14aef5dba2d4bd36b8350'),\n",
       " 'transactionIndex': 0,\n",
       " 'blockNumber': 3,\n",
       " 'blockHash': HexBytes('0xc18a15380d7d1eabafe73a6d6bdcd1158f9d5d4f933aa1240cba86b7d591fac4'),\n",
       " 'cumulativeGasUsed': 190517,\n",
       " 'gasUsed': 190517,\n",
       " 'contractAddress': None,\n",
       " 'logs': [],\n",
       " 'status': 1})"
      ]
     },
     "execution_count": 47,
     "metadata": {},
     "output_type": "execute_result"
    }
   ],
   "source": [
    "# Perform a transaction within a \"Blockchain\"\n",
    "\n",
    "tx_hash = contract_inst.functions.addImageToUser('www.apricot.net/docs/Certificate-of-Tax-Residency.jpg',\n",
    "                                                 '0x6c3e007e281f6948b37c511a11e43c8026d2a16a8a45fed4e83379b66b0ab927').transact()\n",
    "\n",
    "# Wait for transaction to be mined...\n",
    "w3.eth.waitForTransactionReceipt(tx_hash)"
   ]
  },
  {
   "cell_type": "code",
   "execution_count": 48,
   "metadata": {},
   "outputs": [
    {
     "data": {
      "text/plain": [
       "AttributeDict({'transactionHash': HexBytes('0xbaf715fdb83e3b5c1af891be4ec32e81daedbc6f4a25c7e4dc420053e41f25ac'),\n",
       " 'transactionIndex': 0,\n",
       " 'blockNumber': 4,\n",
       " 'blockHash': HexBytes('0x32af966a91cdcacaa845f75e187ce86469f101b2630e5edecad3389d1d7dc86c'),\n",
       " 'cumulativeGasUsed': 25766,\n",
       " 'gasUsed': 25766,\n",
       " 'contractAddress': None,\n",
       " 'logs': [],\n",
       " 'status': 1})"
      ]
     },
     "execution_count": 48,
     "metadata": {},
     "output_type": "execute_result"
    }
   ],
   "source": [
    "# Perform a transaction within a \"Blockchain\"\n",
    "\n",
    "tx_hash = contract_inst.functions.getImage('0x6c3e007e281f6948b37c511a11e43c8026d2a16a8a45fed4e83379b66b0ab927').transact()\n",
    "\n",
    "# Wait for transaction to be mined...\n",
    "w3.eth.waitForTransactionReceipt(tx_hash)"
   ]
  },
  {
   "cell_type": "code",
   "execution_count": 49,
   "metadata": {},
   "outputs": [],
   "source": [
    "user_source_code = '''\n",
    "pragma solidity >=0.4.22 <0.6.0;\n",
    "\n",
    "\n",
    "contract OracleUser {\n",
    "\n",
    "    address oracleAddr;\n",
    "    \n",
    "    function ExistingOracle(address _t) public {\n",
    "        oracleAddr = _t;\n",
    "    }\n",
    "\n",
    "    function oracleQuery () public {\n",
    "        \n",
    "        oracleAddr.call(bytes4(keccak256(\"getUsers()\")));\n",
    "\n",
    "    }\n",
    "}\n",
    "'''"
   ]
  }
 ],
 "metadata": {
  "kernelspec": {
   "display_name": "Python 3",
   "language": "python",
   "name": "python3"
  },
  "language_info": {
   "codemirror_mode": {
    "name": "ipython",
    "version": 3
   },
   "file_extension": ".py",
   "mimetype": "text/x-python",
   "name": "python",
   "nbconvert_exporter": "python",
   "pygments_lexer": "ipython3",
   "version": "3.7.1"
  }
 },
 "nbformat": 4,
 "nbformat_minor": 2
}
